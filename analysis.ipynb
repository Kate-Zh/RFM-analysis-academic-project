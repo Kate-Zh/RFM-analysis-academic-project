{
 "cells": [
  {
   "cell_type": "code",
   "execution_count": 1,
   "metadata": {},
   "outputs": [],
   "source": [
    "import pandas as pd\n",
    "import numpy as np\n",
    "import matplotlib.pyplot as plt\n",
    "import seaborn as sns\n",
    "%matplotlib inline"
   ]
  },
  {
   "cell_type": "code",
   "execution_count": 2,
   "metadata": {},
   "outputs": [],
   "source": [
    "assessments = pd.read_csv('assessments.csv')"
   ]
  },
  {
   "cell_type": "markdown",
   "metadata": {},
   "source": [
    "* code_module — идентификационный код предмета.\n",
    "* code_presentation — семестр (Идентификационный код).\n",
    "* id_assessment — тест (Идентификационный номер ассессмента).\n",
    "* assessment_type — тип теста. Существуют три типа оценивания: оценка преподавателя (TMA), компьютерная оценка (СМА), экзамен по курсу (Exam).\n",
    "* date — информация об окончательной дате сдачи теста. Рассчитывается как количество дней с момента начала семестра. Дата начала *семестра имеет номер 0 (ноль).\n",
    "* weight — вес теста в % в оценке за курс. Обычно экзамены рассматриваются отдельно и имеют вес 100%; сумма всех остальных оценок составляет 100%."
   ]
  },
  {
   "cell_type": "code",
   "execution_count": 3,
   "metadata": {},
   "outputs": [],
   "source": [
    "courses = pd.read_csv('courses.csv')"
   ]
  },
  {
   "cell_type": "markdown",
   "metadata": {},
   "source": [
    "* code_module — предмет (идентификационный код).\n",
    "* code_presentation — семестр (идентификационный код).\n",
    "* module_presentation_length — продолжительность семестра в днях."
   ]
  },
  {
   "cell_type": "code",
   "execution_count": 4,
   "metadata": {},
   "outputs": [],
   "source": [
    "student_assessment = pd.read_csv('studentAssessment.csv')"
   ]
  },
  {
   "cell_type": "markdown",
   "metadata": {},
   "source": [
    "* id_assessment — тест (идентификационный номер).\n",
    "* id_student — идентификационный номер студента.\n",
    "* date_submitted — дата сдачи теста студентом, измеряемая как количество дней с начала семестра.\n",
    "* is_banked — факт перезачета теста с прошлого семестра (иногда курсы перезачитывают студентам, вернувшимся из академического отпуска).\n",
    "* score — оценка учащегося в этом тесте. Диапазон составляет от 0 до 100. Оценка ниже 40 неудачная/неуспешная сдача теста."
   ]
  },
  {
   "cell_type": "code",
   "execution_count": 5,
   "metadata": {},
   "outputs": [],
   "source": [
    "student_reg = pd.read_csv('studentRegistration.csv')"
   ]
  },
  {
   "cell_type": "markdown",
   "metadata": {},
   "source": [
    "* code_module — предмет (идентификационный код).\n",
    "* code_presentation — семестр (идентификационный код)\n",
    "* id_student — идентификационный номер студента.\n",
    "* date_registration — дата регистрации студента. Это количество дней, измеренное от начала семестра (например, отрицательное значение -30 означает, что студент зарегистрировался на прохождение курса за 30 дней до его начала).\n",
    "* date_unregistration — дата отмены регистрации студента с предмета. У студентов, окончивших курс, это поле остается пустым."
   ]
  },
  {
   "cell_type": "markdown",
   "metadata": {},
   "source": [
    "#### Сколько студентов успешно сдали только один предмет? (Успешная сдача — это зачёт по предмету на экзамене) "
   ]
  },
  {
   "cell_type": "code",
   "execution_count": 6,
   "metadata": {},
   "outputs": [
    {
     "data": {
      "text/html": [
       "<div>\n",
       "<style scoped>\n",
       "    .dataframe tbody tr th:only-of-type {\n",
       "        vertical-align: middle;\n",
       "    }\n",
       "\n",
       "    .dataframe tbody tr th {\n",
       "        vertical-align: top;\n",
       "    }\n",
       "\n",
       "    .dataframe thead th {\n",
       "        text-align: right;\n",
       "    }\n",
       "</style>\n",
       "<table border=\"1\" class=\"dataframe\">\n",
       "  <thead>\n",
       "    <tr style=\"text-align: right;\">\n",
       "      <th></th>\n",
       "      <th>code_module</th>\n",
       "      <th>code_presentation</th>\n",
       "      <th>id_assessment</th>\n",
       "      <th>assessment_type</th>\n",
       "      <th>date</th>\n",
       "      <th>weight</th>\n",
       "      <th>id_student</th>\n",
       "      <th>date_submitted</th>\n",
       "      <th>is_banked</th>\n",
       "      <th>score</th>\n",
       "    </tr>\n",
       "  </thead>\n",
       "  <tbody>\n",
       "    <tr>\n",
       "      <th>0</th>\n",
       "      <td>AAA</td>\n",
       "      <td>2013J</td>\n",
       "      <td>1752</td>\n",
       "      <td>TMA</td>\n",
       "      <td>19.0</td>\n",
       "      <td>10.0</td>\n",
       "      <td>11391</td>\n",
       "      <td>18</td>\n",
       "      <td>0</td>\n",
       "      <td>78.0</td>\n",
       "    </tr>\n",
       "    <tr>\n",
       "      <th>1</th>\n",
       "      <td>AAA</td>\n",
       "      <td>2013J</td>\n",
       "      <td>1752</td>\n",
       "      <td>TMA</td>\n",
       "      <td>19.0</td>\n",
       "      <td>10.0</td>\n",
       "      <td>28400</td>\n",
       "      <td>22</td>\n",
       "      <td>0</td>\n",
       "      <td>70.0</td>\n",
       "    </tr>\n",
       "    <tr>\n",
       "      <th>2</th>\n",
       "      <td>AAA</td>\n",
       "      <td>2013J</td>\n",
       "      <td>1752</td>\n",
       "      <td>TMA</td>\n",
       "      <td>19.0</td>\n",
       "      <td>10.0</td>\n",
       "      <td>31604</td>\n",
       "      <td>17</td>\n",
       "      <td>0</td>\n",
       "      <td>72.0</td>\n",
       "    </tr>\n",
       "    <tr>\n",
       "      <th>3</th>\n",
       "      <td>AAA</td>\n",
       "      <td>2013J</td>\n",
       "      <td>1752</td>\n",
       "      <td>TMA</td>\n",
       "      <td>19.0</td>\n",
       "      <td>10.0</td>\n",
       "      <td>32885</td>\n",
       "      <td>26</td>\n",
       "      <td>0</td>\n",
       "      <td>69.0</td>\n",
       "    </tr>\n",
       "    <tr>\n",
       "      <th>4</th>\n",
       "      <td>AAA</td>\n",
       "      <td>2013J</td>\n",
       "      <td>1752</td>\n",
       "      <td>TMA</td>\n",
       "      <td>19.0</td>\n",
       "      <td>10.0</td>\n",
       "      <td>38053</td>\n",
       "      <td>19</td>\n",
       "      <td>0</td>\n",
       "      <td>79.0</td>\n",
       "    </tr>\n",
       "    <tr>\n",
       "      <th>...</th>\n",
       "      <td>...</td>\n",
       "      <td>...</td>\n",
       "      <td>...</td>\n",
       "      <td>...</td>\n",
       "      <td>...</td>\n",
       "      <td>...</td>\n",
       "      <td>...</td>\n",
       "      <td>...</td>\n",
       "      <td>...</td>\n",
       "      <td>...</td>\n",
       "    </tr>\n",
       "    <tr>\n",
       "      <th>173907</th>\n",
       "      <td>GGG</td>\n",
       "      <td>2014J</td>\n",
       "      <td>37437</td>\n",
       "      <td>TMA</td>\n",
       "      <td>173.0</td>\n",
       "      <td>0.0</td>\n",
       "      <td>652462</td>\n",
       "      <td>172</td>\n",
       "      <td>0</td>\n",
       "      <td>60.0</td>\n",
       "    </tr>\n",
       "    <tr>\n",
       "      <th>173908</th>\n",
       "      <td>GGG</td>\n",
       "      <td>2014J</td>\n",
       "      <td>37437</td>\n",
       "      <td>TMA</td>\n",
       "      <td>173.0</td>\n",
       "      <td>0.0</td>\n",
       "      <td>652539</td>\n",
       "      <td>176</td>\n",
       "      <td>0</td>\n",
       "      <td>75.0</td>\n",
       "    </tr>\n",
       "    <tr>\n",
       "      <th>173909</th>\n",
       "      <td>GGG</td>\n",
       "      <td>2014J</td>\n",
       "      <td>37437</td>\n",
       "      <td>TMA</td>\n",
       "      <td>173.0</td>\n",
       "      <td>0.0</td>\n",
       "      <td>653157</td>\n",
       "      <td>187</td>\n",
       "      <td>0</td>\n",
       "      <td>70.0</td>\n",
       "    </tr>\n",
       "    <tr>\n",
       "      <th>173910</th>\n",
       "      <td>GGG</td>\n",
       "      <td>2014J</td>\n",
       "      <td>37437</td>\n",
       "      <td>TMA</td>\n",
       "      <td>173.0</td>\n",
       "      <td>0.0</td>\n",
       "      <td>653252</td>\n",
       "      <td>171</td>\n",
       "      <td>0</td>\n",
       "      <td>70.0</td>\n",
       "    </tr>\n",
       "    <tr>\n",
       "      <th>173911</th>\n",
       "      <td>GGG</td>\n",
       "      <td>2014J</td>\n",
       "      <td>37437</td>\n",
       "      <td>TMA</td>\n",
       "      <td>173.0</td>\n",
       "      <td>0.0</td>\n",
       "      <td>653374</td>\n",
       "      <td>172</td>\n",
       "      <td>0</td>\n",
       "      <td>50.0</td>\n",
       "    </tr>\n",
       "  </tbody>\n",
       "</table>\n",
       "<p>173912 rows × 10 columns</p>\n",
       "</div>"
      ],
      "text/plain": [
       "       code_module code_presentation  id_assessment assessment_type   date  \\\n",
       "0              AAA             2013J           1752             TMA   19.0   \n",
       "1              AAA             2013J           1752             TMA   19.0   \n",
       "2              AAA             2013J           1752             TMA   19.0   \n",
       "3              AAA             2013J           1752             TMA   19.0   \n",
       "4              AAA             2013J           1752             TMA   19.0   \n",
       "...            ...               ...            ...             ...    ...   \n",
       "173907         GGG             2014J          37437             TMA  173.0   \n",
       "173908         GGG             2014J          37437             TMA  173.0   \n",
       "173909         GGG             2014J          37437             TMA  173.0   \n",
       "173910         GGG             2014J          37437             TMA  173.0   \n",
       "173911         GGG             2014J          37437             TMA  173.0   \n",
       "\n",
       "        weight  id_student  date_submitted  is_banked  score  \n",
       "0         10.0       11391              18          0   78.0  \n",
       "1         10.0       28400              22          0   70.0  \n",
       "2         10.0       31604              17          0   72.0  \n",
       "3         10.0       32885              26          0   69.0  \n",
       "4         10.0       38053              19          0   79.0  \n",
       "...        ...         ...             ...        ...    ...  \n",
       "173907     0.0      652462             172          0   60.0  \n",
       "173908     0.0      652539             176          0   75.0  \n",
       "173909     0.0      653157             187          0   70.0  \n",
       "173910     0.0      653252             171          0   70.0  \n",
       "173911     0.0      653374             172          0   50.0  \n",
       "\n",
       "[173912 rows x 10 columns]"
      ]
     },
     "execution_count": 6,
     "metadata": {},
     "output_type": "execute_result"
    }
   ],
   "source": [
    "# объединим информацию об оценках студентов с информацией о типе теста\n",
    "full_assessments = assessments.merge(student_assessment, how = 'inner', on = 'id_assessment')\n",
    "full_assessments"
   ]
  },
  {
   "cell_type": "code",
   "execution_count": 7,
   "metadata": {},
   "outputs": [
    {
     "data": {
      "text/plain": [
       "id_student    3802\n",
       "dtype: int64"
      ]
     },
     "execution_count": 7,
     "metadata": {},
     "output_type": "execute_result"
    }
   ],
   "source": [
    "full_assessments.query('score > 39 and assessment_type == \"Exam\"').groupby('id_student', as_index=False)\\\n",
    "                                      .agg({'id_assessment':'count'})\\\n",
    "                                      .rename(columns = {'id_assessment':'succeeded_number'})\\\n",
    "                                      .query('succeeded_number == 1')[['id_student']]\\\n",
    "                                      .count()"
   ]
  },
  {
   "cell_type": "markdown",
   "metadata": {},
   "source": [
    "##### Самый сложный и самый простой экзамен: найдем курсы и экзамены в рамках курса, которые обладают самой низкой и самой высокой завершаемостью\n",
    "complete_rate = завершаемость = кол-во успешных экзаменов / кол-во всех попыток сдать экзамен"
   ]
  },
  {
   "cell_type": "code",
   "execution_count": 8,
   "metadata": {},
   "outputs": [],
   "source": [
    "#Успешной сдачей считается оценка выше 40 баллов по предмету, поэтому берем объединенный датафрейм\n",
    "full_exams = full_assessments.query(\"assessment_type =='Exam'\")\\\n",
    "                                .groupby(['id_assessment', 'assessment_type'], as_index=False)\\\n",
    "                                .agg({'id_student':'count'})\\\n",
    "                                .rename(columns={'id_student':'exams_number'})"
   ]
  },
  {
   "cell_type": "code",
   "execution_count": 9,
   "metadata": {},
   "outputs": [],
   "source": [
    "passed_exams = full_assessments.query(\"assessment_type =='Exam' and score >= 40\")\\\n",
    "            .groupby(['id_assessment', 'assessment_type'], as_index=False)\\\n",
    "            .agg({'id_student':'count'})\\\n",
    "            .rename(columns={'id_student':'passed_exams_number'})"
   ]
  },
  {
   "cell_type": "code",
   "execution_count": 10,
   "metadata": {},
   "outputs": [],
   "source": [
    "exams = passed_exams.merge(full_exams[['id_assessment', 'exams_number']], on='id_assessment')"
   ]
  },
  {
   "cell_type": "code",
   "execution_count": 11,
   "metadata": {},
   "outputs": [],
   "source": [
    "exams['complete_rate'] = round(exams.passed_exams_number / exams.exams_number*100, 1)\n"
   ]
  },
  {
   "cell_type": "code",
   "execution_count": 12,
   "metadata": {},
   "outputs": [
    {
     "data": {
      "text/html": [
       "<div>\n",
       "<style scoped>\n",
       "    .dataframe tbody tr th:only-of-type {\n",
       "        vertical-align: middle;\n",
       "    }\n",
       "\n",
       "    .dataframe tbody tr th {\n",
       "        vertical-align: top;\n",
       "    }\n",
       "\n",
       "    .dataframe thead th {\n",
       "        text-align: right;\n",
       "    }\n",
       "</style>\n",
       "<table border=\"1\" class=\"dataframe\">\n",
       "  <thead>\n",
       "    <tr style=\"text-align: right;\">\n",
       "      <th></th>\n",
       "      <th>id_assessment</th>\n",
       "      <th>assessment_type</th>\n",
       "      <th>passed_exams_number</th>\n",
       "      <th>exams_number</th>\n",
       "      <th>complete_rate</th>\n",
       "    </tr>\n",
       "  </thead>\n",
       "  <tbody>\n",
       "    <tr>\n",
       "      <th>4</th>\n",
       "      <td>25361</td>\n",
       "      <td>Exam</td>\n",
       "      <td>485</td>\n",
       "      <td>524</td>\n",
       "      <td>92.6</td>\n",
       "    </tr>\n",
       "    <tr>\n",
       "      <th>3</th>\n",
       "      <td>25354</td>\n",
       "      <td>Exam</td>\n",
       "      <td>878</td>\n",
       "      <td>968</td>\n",
       "      <td>90.7</td>\n",
       "    </tr>\n",
       "    <tr>\n",
       "      <th>0</th>\n",
       "      <td>24290</td>\n",
       "      <td>Exam</td>\n",
       "      <td>664</td>\n",
       "      <td>747</td>\n",
       "      <td>88.9</td>\n",
       "    </tr>\n",
       "    <tr>\n",
       "      <th>5</th>\n",
       "      <td>25368</td>\n",
       "      <td>Exam</td>\n",
       "      <td>842</td>\n",
       "      <td>950</td>\n",
       "      <td>88.6</td>\n",
       "    </tr>\n",
       "    <tr>\n",
       "      <th>1</th>\n",
       "      <td>24299</td>\n",
       "      <td>Exam</td>\n",
       "      <td>1019</td>\n",
       "      <td>1168</td>\n",
       "      <td>87.2</td>\n",
       "    </tr>\n",
       "    <tr>\n",
       "      <th>2</th>\n",
       "      <td>25340</td>\n",
       "      <td>Exam</td>\n",
       "      <td>504</td>\n",
       "      <td>602</td>\n",
       "      <td>83.7</td>\n",
       "    </tr>\n",
       "  </tbody>\n",
       "</table>\n",
       "</div>"
      ],
      "text/plain": [
       "   id_assessment assessment_type  passed_exams_number  exams_number  \\\n",
       "4          25361            Exam                  485           524   \n",
       "3          25354            Exam                  878           968   \n",
       "0          24290            Exam                  664           747   \n",
       "5          25368            Exam                  842           950   \n",
       "1          24299            Exam                 1019          1168   \n",
       "2          25340            Exam                  504           602   \n",
       "\n",
       "   complete_rate  \n",
       "4           92.6  \n",
       "3           90.7  \n",
       "0           88.9  \n",
       "5           88.6  \n",
       "1           87.2  \n",
       "2           83.7  "
      ]
     },
     "execution_count": 12,
     "metadata": {},
     "output_type": "execute_result"
    }
   ],
   "source": [
    "exams.sort_values('complete_rate', ascending = False)"
   ]
  },
  {
   "cell_type": "markdown",
   "metadata": {},
   "source": [
    "Самым легкий ассессмент 25361\n",
    "Самый сложный ассессмент 25340"
   ]
  },
  {
   "cell_type": "markdown",
   "metadata": {},
   "source": [
    "##### Определим средний срок сдачи экзаменов по каждому предмету"
   ]
  },
  {
   "cell_type": "markdown",
   "metadata": {},
   "source": [
    "сдача экзамена - это успешное его прохождение студентом\n",
    "есть студенты, которым перезачли тесты с прошлого семестра, у таких студентов дата сдачи отрицательная, поэтому нужно их отфильтровать"
   ]
  },
  {
   "cell_type": "code",
   "execution_count": 13,
   "metadata": {},
   "outputs": [
    {
     "data": {
      "text/html": [
       "<div>\n",
       "<style scoped>\n",
       "    .dataframe tbody tr th:only-of-type {\n",
       "        vertical-align: middle;\n",
       "    }\n",
       "\n",
       "    .dataframe tbody tr th {\n",
       "        vertical-align: top;\n",
       "    }\n",
       "\n",
       "    .dataframe thead th {\n",
       "        text-align: right;\n",
       "    }\n",
       "</style>\n",
       "<table border=\"1\" class=\"dataframe\">\n",
       "  <thead>\n",
       "    <tr style=\"text-align: right;\">\n",
       "      <th></th>\n",
       "      <th>code_module</th>\n",
       "      <th>code_presentation</th>\n",
       "      <th>id_assessment</th>\n",
       "      <th>assessment_type</th>\n",
       "      <th>date</th>\n",
       "      <th>weight</th>\n",
       "      <th>id_student</th>\n",
       "      <th>date_submitted</th>\n",
       "      <th>is_banked</th>\n",
       "      <th>score</th>\n",
       "    </tr>\n",
       "  </thead>\n",
       "  <tbody>\n",
       "    <tr>\n",
       "      <th>1641</th>\n",
       "      <td>AAA</td>\n",
       "      <td>2014J</td>\n",
       "      <td>1758</td>\n",
       "      <td>TMA</td>\n",
       "      <td>19.0</td>\n",
       "      <td>10.0</td>\n",
       "      <td>603861</td>\n",
       "      <td>-1</td>\n",
       "      <td>1</td>\n",
       "      <td>61.0</td>\n",
       "    </tr>\n",
       "    <tr>\n",
       "      <th>1685</th>\n",
       "      <td>AAA</td>\n",
       "      <td>2014J</td>\n",
       "      <td>1758</td>\n",
       "      <td>TMA</td>\n",
       "      <td>19.0</td>\n",
       "      <td>10.0</td>\n",
       "      <td>1970390</td>\n",
       "      <td>-1</td>\n",
       "      <td>1</td>\n",
       "      <td>78.0</td>\n",
       "    </tr>\n",
       "    <tr>\n",
       "      <th>1690</th>\n",
       "      <td>AAA</td>\n",
       "      <td>2014J</td>\n",
       "      <td>1758</td>\n",
       "      <td>TMA</td>\n",
       "      <td>19.0</td>\n",
       "      <td>10.0</td>\n",
       "      <td>2073016</td>\n",
       "      <td>-1</td>\n",
       "      <td>1</td>\n",
       "      <td>60.0</td>\n",
       "    </tr>\n",
       "    <tr>\n",
       "      <th>1693</th>\n",
       "      <td>AAA</td>\n",
       "      <td>2014J</td>\n",
       "      <td>1758</td>\n",
       "      <td>TMA</td>\n",
       "      <td>19.0</td>\n",
       "      <td>10.0</td>\n",
       "      <td>2139353</td>\n",
       "      <td>-1</td>\n",
       "      <td>1</td>\n",
       "      <td>65.0</td>\n",
       "    </tr>\n",
       "    <tr>\n",
       "      <th>1708</th>\n",
       "      <td>AAA</td>\n",
       "      <td>2014J</td>\n",
       "      <td>1758</td>\n",
       "      <td>TMA</td>\n",
       "      <td>19.0</td>\n",
       "      <td>10.0</td>\n",
       "      <td>2358969</td>\n",
       "      <td>-1</td>\n",
       "      <td>1</td>\n",
       "      <td>68.0</td>\n",
       "    </tr>\n",
       "    <tr>\n",
       "      <th>...</th>\n",
       "      <td>...</td>\n",
       "      <td>...</td>\n",
       "      <td>...</td>\n",
       "      <td>...</td>\n",
       "      <td>...</td>\n",
       "      <td>...</td>\n",
       "      <td>...</td>\n",
       "      <td>...</td>\n",
       "      <td>...</td>\n",
       "      <td>...</td>\n",
       "    </tr>\n",
       "    <tr>\n",
       "      <th>172348</th>\n",
       "      <td>GGG</td>\n",
       "      <td>2014J</td>\n",
       "      <td>37435</td>\n",
       "      <td>TMA</td>\n",
       "      <td>61.0</td>\n",
       "      <td>0.0</td>\n",
       "      <td>631446</td>\n",
       "      <td>-1</td>\n",
       "      <td>1</td>\n",
       "      <td>72.0</td>\n",
       "    </tr>\n",
       "    <tr>\n",
       "      <th>172991</th>\n",
       "      <td>GGG</td>\n",
       "      <td>2014J</td>\n",
       "      <td>37436</td>\n",
       "      <td>TMA</td>\n",
       "      <td>124.0</td>\n",
       "      <td>0.0</td>\n",
       "      <td>624767</td>\n",
       "      <td>-1</td>\n",
       "      <td>1</td>\n",
       "      <td>90.0</td>\n",
       "    </tr>\n",
       "    <tr>\n",
       "      <th>173002</th>\n",
       "      <td>GGG</td>\n",
       "      <td>2014J</td>\n",
       "      <td>37436</td>\n",
       "      <td>TMA</td>\n",
       "      <td>124.0</td>\n",
       "      <td>0.0</td>\n",
       "      <td>631446</td>\n",
       "      <td>-1</td>\n",
       "      <td>1</td>\n",
       "      <td>70.0</td>\n",
       "    </tr>\n",
       "    <tr>\n",
       "      <th>173744</th>\n",
       "      <td>GGG</td>\n",
       "      <td>2014J</td>\n",
       "      <td>37437</td>\n",
       "      <td>TMA</td>\n",
       "      <td>173.0</td>\n",
       "      <td>0.0</td>\n",
       "      <td>624767</td>\n",
       "      <td>-1</td>\n",
       "      <td>1</td>\n",
       "      <td>75.0</td>\n",
       "    </tr>\n",
       "    <tr>\n",
       "      <th>173754</th>\n",
       "      <td>GGG</td>\n",
       "      <td>2014J</td>\n",
       "      <td>37437</td>\n",
       "      <td>TMA</td>\n",
       "      <td>173.0</td>\n",
       "      <td>0.0</td>\n",
       "      <td>631446</td>\n",
       "      <td>-1</td>\n",
       "      <td>1</td>\n",
       "      <td>64.0</td>\n",
       "    </tr>\n",
       "  </tbody>\n",
       "</table>\n",
       "<p>1909 rows × 10 columns</p>\n",
       "</div>"
      ],
      "text/plain": [
       "       code_module code_presentation  id_assessment assessment_type   date  \\\n",
       "1641           AAA             2014J           1758             TMA   19.0   \n",
       "1685           AAA             2014J           1758             TMA   19.0   \n",
       "1690           AAA             2014J           1758             TMA   19.0   \n",
       "1693           AAA             2014J           1758             TMA   19.0   \n",
       "1708           AAA             2014J           1758             TMA   19.0   \n",
       "...            ...               ...            ...             ...    ...   \n",
       "172348         GGG             2014J          37435             TMA   61.0   \n",
       "172991         GGG             2014J          37436             TMA  124.0   \n",
       "173002         GGG             2014J          37436             TMA  124.0   \n",
       "173744         GGG             2014J          37437             TMA  173.0   \n",
       "173754         GGG             2014J          37437             TMA  173.0   \n",
       "\n",
       "        weight  id_student  date_submitted  is_banked  score  \n",
       "1641      10.0      603861              -1          1   61.0  \n",
       "1685      10.0     1970390              -1          1   78.0  \n",
       "1690      10.0     2073016              -1          1   60.0  \n",
       "1693      10.0     2139353              -1          1   65.0  \n",
       "1708      10.0     2358969              -1          1   68.0  \n",
       "...        ...         ...             ...        ...    ...  \n",
       "172348     0.0      631446              -1          1   72.0  \n",
       "172991     0.0      624767              -1          1   90.0  \n",
       "173002     0.0      631446              -1          1   70.0  \n",
       "173744     0.0      624767              -1          1   75.0  \n",
       "173754     0.0      631446              -1          1   64.0  \n",
       "\n",
       "[1909 rows x 10 columns]"
      ]
     },
     "execution_count": 13,
     "metadata": {},
     "output_type": "execute_result"
    }
   ],
   "source": [
    "full_assessments.query(\"is_banked == 1\")"
   ]
  },
  {
   "cell_type": "code",
   "execution_count": 14,
   "metadata": {},
   "outputs": [
    {
     "data": {
      "text/html": [
       "<div>\n",
       "<style scoped>\n",
       "    .dataframe tbody tr th:only-of-type {\n",
       "        vertical-align: middle;\n",
       "    }\n",
       "\n",
       "    .dataframe tbody tr th {\n",
       "        vertical-align: top;\n",
       "    }\n",
       "\n",
       "    .dataframe thead th {\n",
       "        text-align: right;\n",
       "    }\n",
       "</style>\n",
       "<table border=\"1\" class=\"dataframe\">\n",
       "  <thead>\n",
       "    <tr style=\"text-align: right;\">\n",
       "      <th></th>\n",
       "      <th>avg_date</th>\n",
       "    </tr>\n",
       "    <tr>\n",
       "      <th>code_module</th>\n",
       "      <th></th>\n",
       "    </tr>\n",
       "  </thead>\n",
       "  <tbody>\n",
       "    <tr>\n",
       "      <th>CCC</th>\n",
       "      <td>239.4</td>\n",
       "    </tr>\n",
       "    <tr>\n",
       "      <th>DDD</th>\n",
       "      <td>237.9</td>\n",
       "    </tr>\n",
       "  </tbody>\n",
       "</table>\n",
       "</div>"
      ],
      "text/plain": [
       "             avg_date\n",
       "code_module          \n",
       "CCC             239.4\n",
       "DDD             237.9"
      ]
     },
     "execution_count": 14,
     "metadata": {},
     "output_type": "execute_result"
    }
   ],
   "source": [
    "full_assessments.query(\"assessment_type =='Exam' and is_banked != 1\")\\\n",
    "                .groupby(['code_module'])\\\n",
    "                .agg({'date_submitted':'mean'}).round(1)\\\n",
    "                .rename(columns={'date_submitted':'avg_date'})"
   ]
  },
  {
   "cell_type": "markdown",
   "metadata": {},
   "source": [
    "#### Посмотрим самые популярные курсы (ТОП-3) по количеству регистраций на них. А также курсы с самым большим оттоком (ТОП-3)"
   ]
  },
  {
   "cell_type": "code",
   "execution_count": 15,
   "metadata": {},
   "outputs": [
    {
     "data": {
      "text/plain": [
       "code_module                0\n",
       "code_presentation          0\n",
       "id_student                 0\n",
       "date_registration         45\n",
       "date_unregistration    22521\n",
       "dtype: int64"
      ]
     },
     "execution_count": 15,
     "metadata": {},
     "output_type": "execute_result"
    }
   ],
   "source": [
    "student_reg.isna().sum()"
   ]
  },
  {
   "cell_type": "code",
   "execution_count": 16,
   "metadata": {},
   "outputs": [
    {
     "data": {
      "text/html": [
       "<div>\n",
       "<style scoped>\n",
       "    .dataframe tbody tr th:only-of-type {\n",
       "        vertical-align: middle;\n",
       "    }\n",
       "\n",
       "    .dataframe tbody tr th {\n",
       "        vertical-align: top;\n",
       "    }\n",
       "\n",
       "    .dataframe thead th {\n",
       "        text-align: right;\n",
       "    }\n",
       "</style>\n",
       "<table border=\"1\" class=\"dataframe\">\n",
       "  <thead>\n",
       "    <tr style=\"text-align: right;\">\n",
       "      <th></th>\n",
       "      <th>code_module</th>\n",
       "      <th>reg_number</th>\n",
       "    </tr>\n",
       "  </thead>\n",
       "  <tbody>\n",
       "    <tr>\n",
       "      <th>1</th>\n",
       "      <td>BBB</td>\n",
       "      <td>7692</td>\n",
       "    </tr>\n",
       "    <tr>\n",
       "      <th>5</th>\n",
       "      <td>FFF</td>\n",
       "      <td>7397</td>\n",
       "    </tr>\n",
       "    <tr>\n",
       "      <th>3</th>\n",
       "      <td>DDD</td>\n",
       "      <td>5848</td>\n",
       "    </tr>\n",
       "  </tbody>\n",
       "</table>\n",
       "</div>"
      ],
      "text/plain": [
       "  code_module  reg_number\n",
       "1         BBB        7692\n",
       "5         FFF        7397\n",
       "3         DDD        5848"
      ]
     },
     "execution_count": 16,
     "metadata": {},
     "output_type": "execute_result"
    }
   ],
   "source": [
    "#ТОП-3 самых популярных курсов\n",
    "student_reg.query('date_registration != \"NaN\"').groupby('code_module', as_index = False)\\\n",
    "           .agg({'id_student':'nunique'}).rename(columns={'id_student':'reg_number'})\\\n",
    "           .sort_values('reg_number', ascending=False).head(3)"
   ]
  },
  {
   "cell_type": "code",
   "execution_count": 17,
   "metadata": {},
   "outputs": [
    {
     "data": {
      "text/html": [
       "<div>\n",
       "<style scoped>\n",
       "    .dataframe tbody tr th:only-of-type {\n",
       "        vertical-align: middle;\n",
       "    }\n",
       "\n",
       "    .dataframe tbody tr th {\n",
       "        vertical-align: top;\n",
       "    }\n",
       "\n",
       "    .dataframe thead th {\n",
       "        text-align: right;\n",
       "    }\n",
       "</style>\n",
       "<table border=\"1\" class=\"dataframe\">\n",
       "  <thead>\n",
       "    <tr style=\"text-align: right;\">\n",
       "      <th></th>\n",
       "      <th>code_module</th>\n",
       "      <th>unreg_number</th>\n",
       "    </tr>\n",
       "  </thead>\n",
       "  <tbody>\n",
       "    <tr>\n",
       "      <th>1</th>\n",
       "      <td>BBB</td>\n",
       "      <td>2314</td>\n",
       "    </tr>\n",
       "    <tr>\n",
       "      <th>5</th>\n",
       "      <td>FFF</td>\n",
       "      <td>2249</td>\n",
       "    </tr>\n",
       "    <tr>\n",
       "      <th>3</th>\n",
       "      <td>DDD</td>\n",
       "      <td>2065</td>\n",
       "    </tr>\n",
       "  </tbody>\n",
       "</table>\n",
       "</div>"
      ],
      "text/plain": [
       "  code_module  unreg_number\n",
       "1         BBB          2314\n",
       "5         FFF          2249\n",
       "3         DDD          2065"
      ]
     },
     "execution_count": 17,
     "metadata": {},
     "output_type": "execute_result"
    }
   ],
   "source": [
    "#ТОП-3 курсов с самым большим оттоком\n",
    "student_reg.query('date_unregistration.notna()', engine = 'python')\\\n",
    "           .groupby('code_module',as_index = False)\\\n",
    "           .agg({'id_student':'nunique'}).rename(columns={'id_student':'unreg_number'})\\\n",
    "           .sort_values('unreg_number', ascending=False).head(3)"
   ]
  },
  {
   "cell_type": "markdown",
   "metadata": {},
   "source": [
    "#### Проведем когортный (семестровый) анализ\n",
    "В период с начала 2013 по конец 2014 найдем семестр с самой низкой завершаемостью курсов и самыми долгими средними сроками сдачи курсов."
   ]
  },
  {
   "cell_type": "code",
   "execution_count": 27,
   "metadata": {},
   "outputs": [],
   "source": [
    "full_exams = full_assessments.query(\"assessment_type =='Exam' and is_banked != 1\").groupby('code_presentation', as_index=False)\\\n",
    "                                            .agg({'id_student':'count'})\\\n",
    "                                            .rename(columns={'id_student':'exams_number'})"
   ]
  },
  {
   "cell_type": "code",
   "execution_count": 28,
   "metadata": {},
   "outputs": [],
   "source": [
    "passed_exams = full_assessments.query(\"assessment_type =='Exam' and score >= 40 and is_banked != 1\")\\\n",
    "            .groupby('code_presentation', as_index=False)\\\n",
    "            .agg({'id_student':'count'})\\\n",
    "            .rename(columns={'id_student':'passed_exams_number'})"
   ]
  },
  {
   "cell_type": "code",
   "execution_count": 29,
   "metadata": {},
   "outputs": [],
   "source": [
    "exams = passed_exams.merge(full_exams[['code_presentation', 'exams_number']], on='code_presentation')\n",
    "exams['complete_rate'] = round(exams.passed_exams_number / exams.exams_number*100, 1)"
   ]
  },
  {
   "cell_type": "code",
   "execution_count": 35,
   "metadata": {},
   "outputs": [
    {
     "data": {
      "text/html": [
       "<div>\n",
       "<style scoped>\n",
       "    .dataframe tbody tr th:only-of-type {\n",
       "        vertical-align: middle;\n",
       "    }\n",
       "\n",
       "    .dataframe tbody tr th {\n",
       "        vertical-align: top;\n",
       "    }\n",
       "\n",
       "    .dataframe thead th {\n",
       "        text-align: right;\n",
       "    }\n",
       "</style>\n",
       "<table border=\"1\" class=\"dataframe\">\n",
       "  <thead>\n",
       "    <tr style=\"text-align: right;\">\n",
       "      <th></th>\n",
       "      <th>code_presentation</th>\n",
       "      <th>passed_exams_number</th>\n",
       "      <th>exams_number</th>\n",
       "      <th>complete_rate</th>\n",
       "    </tr>\n",
       "  </thead>\n",
       "  <tbody>\n",
       "    <tr>\n",
       "      <th>0</th>\n",
       "      <td>2013B</td>\n",
       "      <td>504</td>\n",
       "      <td>602</td>\n",
       "      <td>83.7</td>\n",
       "    </tr>\n",
       "    <tr>\n",
       "      <th>1</th>\n",
       "      <td>2013J</td>\n",
       "      <td>878</td>\n",
       "      <td>968</td>\n",
       "      <td>90.7</td>\n",
       "    </tr>\n",
       "    <tr>\n",
       "      <th>2</th>\n",
       "      <td>2014B</td>\n",
       "      <td>1149</td>\n",
       "      <td>1271</td>\n",
       "      <td>90.4</td>\n",
       "    </tr>\n",
       "    <tr>\n",
       "      <th>3</th>\n",
       "      <td>2014J</td>\n",
       "      <td>1861</td>\n",
       "      <td>2118</td>\n",
       "      <td>87.9</td>\n",
       "    </tr>\n",
       "  </tbody>\n",
       "</table>\n",
       "</div>"
      ],
      "text/plain": [
       "  code_presentation  passed_exams_number  exams_number  complete_rate\n",
       "0             2013B                  504           602           83.7\n",
       "1             2013J                  878           968           90.7\n",
       "2             2014B                 1149          1271           90.4\n",
       "3             2014J                 1861          2118           87.9"
      ]
     },
     "execution_count": 35,
     "metadata": {},
     "output_type": "execute_result"
    }
   ],
   "source": [
    "exams"
   ]
  },
  {
   "cell_type": "code",
   "execution_count": 37,
   "metadata": {},
   "outputs": [],
   "source": [
    "expiration = full_assessments.query(\"assessment_type =='Exam'\")\\\n",
    "                             .groupby('code_presentation', as_index=False)\\\n",
    "                             .agg({'date_submitted':'mean'}).round(1)\\\n",
    "                             .rename(columns={'date_submitted':'avg_date'})"
   ]
  },
  {
   "cell_type": "code",
   "execution_count": 38,
   "metadata": {},
   "outputs": [
    {
     "data": {
      "text/html": [
       "<div>\n",
       "<style scoped>\n",
       "    .dataframe tbody tr th:only-of-type {\n",
       "        vertical-align: middle;\n",
       "    }\n",
       "\n",
       "    .dataframe tbody tr th {\n",
       "        vertical-align: top;\n",
       "    }\n",
       "\n",
       "    .dataframe thead th {\n",
       "        text-align: right;\n",
       "    }\n",
       "</style>\n",
       "<table border=\"1\" class=\"dataframe\">\n",
       "  <thead>\n",
       "    <tr style=\"text-align: right;\">\n",
       "      <th></th>\n",
       "      <th>code_presentation</th>\n",
       "      <th>avg_date</th>\n",
       "      <th>complete_rate</th>\n",
       "    </tr>\n",
       "  </thead>\n",
       "  <tbody>\n",
       "    <tr>\n",
       "      <th>0</th>\n",
       "      <td>2013B</td>\n",
       "      <td>230.2</td>\n",
       "      <td>83.7</td>\n",
       "    </tr>\n",
       "    <tr>\n",
       "      <th>1</th>\n",
       "      <td>2013J</td>\n",
       "      <td>239.5</td>\n",
       "      <td>90.7</td>\n",
       "    </tr>\n",
       "    <tr>\n",
       "      <th>2</th>\n",
       "      <td>2014B</td>\n",
       "      <td>233.0</td>\n",
       "      <td>90.4</td>\n",
       "    </tr>\n",
       "    <tr>\n",
       "      <th>3</th>\n",
       "      <td>2014J</td>\n",
       "      <td>243.7</td>\n",
       "      <td>87.9</td>\n",
       "    </tr>\n",
       "  </tbody>\n",
       "</table>\n",
       "</div>"
      ],
      "text/plain": [
       "  code_presentation  avg_date  complete_rate\n",
       "0             2013B     230.2           83.7\n",
       "1             2013J     239.5           90.7\n",
       "2             2014B     233.0           90.4\n",
       "3             2014J     243.7           87.9"
      ]
     },
     "execution_count": 38,
     "metadata": {},
     "output_type": "execute_result"
    }
   ],
   "source": [
    "cohort = expiration.merge(exams[['code_presentation', 'complete_rate']], on='code_presentation')\n",
    "cohort"
   ]
  },
  {
   "cell_type": "code",
   "execution_count": 40,
   "metadata": {},
   "outputs": [
    {
     "name": "stdout",
     "output_type": "stream",
     "text": [
      "Семестр с самой низкой завершаемостью курсов\n",
      "2013B\n",
      "Семестр с самым долгим средним сроком сдачи курсов \n",
      "2014J\n"
     ]
    }
   ],
   "source": [
    "print(f'''Семестр с самой низкой завершаемостью курсов\n",
    "{cohort.loc[cohort['complete_rate'] == cohort.complete_rate.min(), 'code_presentation'].iloc[0]}''')\n",
    "print(f'''Семестр с самым долгим средним сроком сдачи курсов \n",
    "{cohort.loc[expiration['avg_date'] == cohort.avg_date.max(), 'code_presentation'].iloc[0]}''')"
   ]
  },
  {
   "cell_type": "markdown",
   "metadata": {},
   "source": [
    "#### Проведем RFM-кластеризацию аудитории нашей онлайн-школы"
   ]
  },
  {
   "cell_type": "markdown",
   "metadata": {},
   "source": [
    "Выбранные метрики: R - среднее время сдачи одного теста, F - завершаемость курсов, M - среднее количество баллов, получаемое за экзамен. "
   ]
  },
  {
   "cell_type": "code",
   "execution_count": 23,
   "metadata": {},
   "outputs": [],
   "source": [
    "#Для анализа необходимо подготовить данные. Возьмем датафрейм, сгруппируем по id студентов, вычислим необходимые параметры."
   ]
  },
  {
   "cell_type": "code",
   "execution_count": 67,
   "metadata": {},
   "outputs": [],
   "source": [
    "RFM = full_assessments.query(\"date_submitted > 0\")\\\n",
    "                      .groupby('id_student', as_index=False)\\\n",
    "                      .agg({'date_submitted':'mean','score':'mean'}).round(1)\\\n",
    "                      .rename(columns={'date_submitted':'recency','score':'monetary' })"
   ]
  },
  {
   "cell_type": "code",
   "execution_count": 68,
   "metadata": {},
   "outputs": [],
   "source": [
    "full_exams_1 = full_assessments.query(\"date_submitted > 0\")\\\n",
    "                               .groupby('id_student', as_index=False)\\\n",
    "                               .agg({'id_assessment':'count'})\\\n",
    "                               .rename(columns={'id_assessment':'exams_number'})\n",
    "\n",
    "passed_exams_1 = full_assessments.query(\"score >= 40 and date_submitted > 0\")\\\n",
    "                                 .groupby('id_student', as_index=False)\\\n",
    "                                 .agg({'id_assessment':'count'})\\\n",
    "                                 .rename(columns={'id_assessment':'passed_exams_number'})\n",
    "\n",
    "exams_1 = passed_exams_1.merge(full_exams_1[['id_student', 'exams_number']], on='id_student')\n",
    "\n",
    "exams_1['frequency'] = round(exams_1.passed_exams_number / exams_1.exams_number*100, 1)\n",
    "\n",
    "RFM = RFM.merge(exams_1[['id_student', 'frequency']], on='id_student')\n",
    "RFM = RFM.reindex(columns = ['id_student', 'recency', 'frequency', 'monetary'])"
   ]
  },
  {
   "cell_type": "code",
   "execution_count": 69,
   "metadata": {},
   "outputs": [
    {
     "data": {
      "text/html": [
       "<div>\n",
       "<style scoped>\n",
       "    .dataframe tbody tr th:only-of-type {\n",
       "        vertical-align: middle;\n",
       "    }\n",
       "\n",
       "    .dataframe tbody tr th {\n",
       "        vertical-align: top;\n",
       "    }\n",
       "\n",
       "    .dataframe thead th {\n",
       "        text-align: right;\n",
       "    }\n",
       "</style>\n",
       "<table border=\"1\" class=\"dataframe\">\n",
       "  <thead>\n",
       "    <tr style=\"text-align: right;\">\n",
       "      <th></th>\n",
       "      <th>id_student</th>\n",
       "      <th>recency</th>\n",
       "      <th>frequency</th>\n",
       "      <th>monetary</th>\n",
       "    </tr>\n",
       "  </thead>\n",
       "  <tbody>\n",
       "    <tr>\n",
       "      <th>count</th>\n",
       "      <td>2.290600e+04</td>\n",
       "      <td>22906.000000</td>\n",
       "      <td>22906.000000</td>\n",
       "      <td>22906.000000</td>\n",
       "    </tr>\n",
       "    <tr>\n",
       "      <th>mean</th>\n",
       "      <td>7.096329e+05</td>\n",
       "      <td>102.452746</td>\n",
       "      <td>95.156693</td>\n",
       "      <td>74.026107</td>\n",
       "    </tr>\n",
       "    <tr>\n",
       "      <th>std</th>\n",
       "      <td>5.556911e+05</td>\n",
       "      <td>40.299211</td>\n",
       "      <td>12.032418</td>\n",
       "      <td>13.855629</td>\n",
       "    </tr>\n",
       "    <tr>\n",
       "      <th>min</th>\n",
       "      <td>6.516000e+03</td>\n",
       "      <td>1.000000</td>\n",
       "      <td>9.100000</td>\n",
       "      <td>10.600000</td>\n",
       "    </tr>\n",
       "    <tr>\n",
       "      <th>25%</th>\n",
       "      <td>5.053828e+05</td>\n",
       "      <td>79.700000</td>\n",
       "      <td>100.000000</td>\n",
       "      <td>65.800000</td>\n",
       "    </tr>\n",
       "    <tr>\n",
       "      <th>50%</th>\n",
       "      <td>5.896275e+05</td>\n",
       "      <td>111.200000</td>\n",
       "      <td>100.000000</td>\n",
       "      <td>76.300000</td>\n",
       "    </tr>\n",
       "    <tr>\n",
       "      <th>75%</th>\n",
       "      <td>6.450282e+05</td>\n",
       "      <td>126.200000</td>\n",
       "      <td>100.000000</td>\n",
       "      <td>84.475000</td>\n",
       "    </tr>\n",
       "    <tr>\n",
       "      <th>max</th>\n",
       "      <td>2.698588e+06</td>\n",
       "      <td>333.500000</td>\n",
       "      <td>100.000000</td>\n",
       "      <td>100.000000</td>\n",
       "    </tr>\n",
       "  </tbody>\n",
       "</table>\n",
       "</div>"
      ],
      "text/plain": [
       "         id_student       recency     frequency      monetary\n",
       "count  2.290600e+04  22906.000000  22906.000000  22906.000000\n",
       "mean   7.096329e+05    102.452746     95.156693     74.026107\n",
       "std    5.556911e+05     40.299211     12.032418     13.855629\n",
       "min    6.516000e+03      1.000000      9.100000     10.600000\n",
       "25%    5.053828e+05     79.700000    100.000000     65.800000\n",
       "50%    5.896275e+05    111.200000    100.000000     76.300000\n",
       "75%    6.450282e+05    126.200000    100.000000     84.475000\n",
       "max    2.698588e+06    333.500000    100.000000    100.000000"
      ]
     },
     "execution_count": 69,
     "metadata": {},
     "output_type": "execute_result"
    }
   ],
   "source": [
    "RFM.describe()"
   ]
  },
  {
   "cell_type": "markdown",
   "metadata": {},
   "source": [
    "Т.к. Среднее время сдачи одного теста имеет большой диапазон значений,при этом разница между 1-м, 2-м и 3-м квартилями\n",
    "не такая большая, как между 3-м квартилем и максимальным значением, предложено 4 сегмента:\n",
    "1 - короткие (0-80 дн), 2 -  средние (81-157 дн), 3 - длинные (158-234 дн),4 - очень длинные (более 235дн) "
   ]
  },
  {
   "cell_type": "markdown",
   "metadata": {},
   "source": [
    "Т.к. завершаемость курсов в целом высокая, то предложено два сегмента:\n",
    "1- низкая завершаемость, 2 - высокая завершаемость"
   ]
  },
  {
   "cell_type": "markdown",
   "metadata": {},
   "source": [
    "Т.к. система оценки стобалльная, при этом успехом считается оценка более 40, предложено 4 сегмента:\n",
    "1 - неуд (0-40 баллов), 2 - удовл (41-65 баллов), 3 - хорошо (66-75 баллов), 4 - отлично (76-100 баллов)"
   ]
  },
  {
   "cell_type": "code",
   "execution_count": 79,
   "metadata": {},
   "outputs": [],
   "source": [
    "RFM['R'] = pd.cut(RFM.recency, bins=[0, 80, 157, 234, 261], labels = ['1', '2', '3', '4'])"
   ]
  },
  {
   "cell_type": "code",
   "execution_count": 80,
   "metadata": {},
   "outputs": [],
   "source": [
    "RFM['F'] = pd.cut(RFM.frequency, bins=2, labels = ['1', '2'])"
   ]
  },
  {
   "cell_type": "code",
   "execution_count": 81,
   "metadata": {},
   "outputs": [],
   "source": [
    "RFM['M'] = pd.cut(RFM.monetary, bins=[0, 40, 65, 75, 100], labels = ['1', '2', '3', '4'])"
   ]
  },
  {
   "cell_type": "code",
   "execution_count": 83,
   "metadata": {},
   "outputs": [],
   "source": [
    "RFM['RFM_score'] = RFM.R.astype(str) + RFM.F.astype(str) + RFM.M.astype(str)"
   ]
  },
  {
   "cell_type": "code",
   "execution_count": 84,
   "metadata": {},
   "outputs": [
    {
     "data": {
      "text/html": [
       "<div>\n",
       "<style scoped>\n",
       "    .dataframe tbody tr th:only-of-type {\n",
       "        vertical-align: middle;\n",
       "    }\n",
       "\n",
       "    .dataframe tbody tr th {\n",
       "        vertical-align: top;\n",
       "    }\n",
       "\n",
       "    .dataframe thead th {\n",
       "        text-align: right;\n",
       "    }\n",
       "</style>\n",
       "<table border=\"1\" class=\"dataframe\">\n",
       "  <thead>\n",
       "    <tr style=\"text-align: right;\">\n",
       "      <th></th>\n",
       "      <th>id_student</th>\n",
       "      <th>recency</th>\n",
       "      <th>frequency</th>\n",
       "      <th>monetary</th>\n",
       "      <th>R</th>\n",
       "      <th>F</th>\n",
       "      <th>M</th>\n",
       "      <th>RFM_score</th>\n",
       "    </tr>\n",
       "  </thead>\n",
       "  <tbody>\n",
       "    <tr>\n",
       "      <th>0</th>\n",
       "      <td>6516</td>\n",
       "      <td>111.6</td>\n",
       "      <td>100.0</td>\n",
       "      <td>61.8</td>\n",
       "      <td>2</td>\n",
       "      <td>2</td>\n",
       "      <td>2</td>\n",
       "      <td>222</td>\n",
       "    </tr>\n",
       "    <tr>\n",
       "      <th>1</th>\n",
       "      <td>8462</td>\n",
       "      <td>55.0</td>\n",
       "      <td>100.0</td>\n",
       "      <td>87.7</td>\n",
       "      <td>1</td>\n",
       "      <td>2</td>\n",
       "      <td>4</td>\n",
       "      <td>124</td>\n",
       "    </tr>\n",
       "    <tr>\n",
       "      <th>2</th>\n",
       "      <td>11391</td>\n",
       "      <td>112.4</td>\n",
       "      <td>100.0</td>\n",
       "      <td>82.0</td>\n",
       "      <td>2</td>\n",
       "      <td>2</td>\n",
       "      <td>4</td>\n",
       "      <td>224</td>\n",
       "    </tr>\n",
       "    <tr>\n",
       "      <th>3</th>\n",
       "      <td>23629</td>\n",
       "      <td>55.8</td>\n",
       "      <td>100.0</td>\n",
       "      <td>82.5</td>\n",
       "      <td>1</td>\n",
       "      <td>2</td>\n",
       "      <td>4</td>\n",
       "      <td>124</td>\n",
       "    </tr>\n",
       "    <tr>\n",
       "      <th>4</th>\n",
       "      <td>23698</td>\n",
       "      <td>133.4</td>\n",
       "      <td>100.0</td>\n",
       "      <td>74.4</td>\n",
       "      <td>2</td>\n",
       "      <td>2</td>\n",
       "      <td>3</td>\n",
       "      <td>223</td>\n",
       "    </tr>\n",
       "    <tr>\n",
       "      <th>...</th>\n",
       "      <td>...</td>\n",
       "      <td>...</td>\n",
       "      <td>...</td>\n",
       "      <td>...</td>\n",
       "      <td>...</td>\n",
       "      <td>...</td>\n",
       "      <td>...</td>\n",
       "      <td>...</td>\n",
       "    </tr>\n",
       "    <tr>\n",
       "      <th>22901</th>\n",
       "      <td>2698251</td>\n",
       "      <td>121.4</td>\n",
       "      <td>85.7</td>\n",
       "      <td>58.1</td>\n",
       "      <td>2</td>\n",
       "      <td>2</td>\n",
       "      <td>2</td>\n",
       "      <td>222</td>\n",
       "    </tr>\n",
       "    <tr>\n",
       "      <th>22902</th>\n",
       "      <td>2698257</td>\n",
       "      <td>116.2</td>\n",
       "      <td>100.0</td>\n",
       "      <td>67.8</td>\n",
       "      <td>2</td>\n",
       "      <td>2</td>\n",
       "      <td>3</td>\n",
       "      <td>223</td>\n",
       "    </tr>\n",
       "    <tr>\n",
       "      <th>22903</th>\n",
       "      <td>2698535</td>\n",
       "      <td>90.4</td>\n",
       "      <td>50.0</td>\n",
       "      <td>39.2</td>\n",
       "      <td>2</td>\n",
       "      <td>1</td>\n",
       "      <td>1</td>\n",
       "      <td>211</td>\n",
       "    </tr>\n",
       "    <tr>\n",
       "      <th>22904</th>\n",
       "      <td>2698577</td>\n",
       "      <td>106.2</td>\n",
       "      <td>100.0</td>\n",
       "      <td>64.4</td>\n",
       "      <td>2</td>\n",
       "      <td>2</td>\n",
       "      <td>2</td>\n",
       "      <td>222</td>\n",
       "    </tr>\n",
       "    <tr>\n",
       "      <th>22905</th>\n",
       "      <td>2698588</td>\n",
       "      <td>106.8</td>\n",
       "      <td>100.0</td>\n",
       "      <td>92.4</td>\n",
       "      <td>2</td>\n",
       "      <td>2</td>\n",
       "      <td>4</td>\n",
       "      <td>224</td>\n",
       "    </tr>\n",
       "  </tbody>\n",
       "</table>\n",
       "<p>22906 rows × 8 columns</p>\n",
       "</div>"
      ],
      "text/plain": [
       "       id_student  recency  frequency  monetary  R  F  M RFM_score\n",
       "0            6516    111.6      100.0      61.8  2  2  2       222\n",
       "1            8462     55.0      100.0      87.7  1  2  4       124\n",
       "2           11391    112.4      100.0      82.0  2  2  4       224\n",
       "3           23629     55.8      100.0      82.5  1  2  4       124\n",
       "4           23698    133.4      100.0      74.4  2  2  3       223\n",
       "...           ...      ...        ...       ... .. .. ..       ...\n",
       "22901     2698251    121.4       85.7      58.1  2  2  2       222\n",
       "22902     2698257    116.2      100.0      67.8  2  2  3       223\n",
       "22903     2698535     90.4       50.0      39.2  2  1  1       211\n",
       "22904     2698577    106.2      100.0      64.4  2  2  2       222\n",
       "22905     2698588    106.8      100.0      92.4  2  2  4       224\n",
       "\n",
       "[22906 rows x 8 columns]"
      ]
     },
     "execution_count": 84,
     "metadata": {},
     "output_type": "execute_result"
    }
   ],
   "source": [
    "RFM"
   ]
  },
  {
   "cell_type": "code",
   "execution_count": 85,
   "metadata": {},
   "outputs": [
    {
     "data": {
      "text/plain": [
       "<AxesSubplot:xlabel='RFM_score'>"
      ]
     },
     "execution_count": 85,
     "metadata": {},
     "output_type": "execute_result"
    },
    {
     "data": {
      "text/plain": [
       "<Figure size 2160x720 with 0 Axes>"
      ]
     },
     "metadata": {},
     "output_type": "display_data"
    },
    {
     "data": {
      "image/png": "[encoded data removed]",
      "text/plain": [
       "<Figure size 432x288 with 1 Axes>"
      ]
     },
     "metadata": {
      "needs_background": "light"
     },
     "output_type": "display_data"
    }
   ],
   "source": [
    "plt.figure(figsize = (30,10))\n",
    "RFM.groupby('RFM_score').agg({'recency':'mean'}).plot(kind='bar', colormap='Blues_r')"
   ]
  },
  {
   "cell_type": "markdown",
   "metadata": {},
   "source": [
    "#### Выводы:"
   ]
  },
  {
   "cell_type": "markdown",
   "metadata": {},
   "source": [
    "В целом результаты RFM анализа используются для удержания клиентов, повышения доходов компании, повышения лояльности клиентов.\n",
    "Результаты RFM анализа применительно к онлайн-школе можно использовать для рекламы и предложения дополнительных продуктов школы.  \n",
    "<br/>\n",
    "Например, студентам с низким средним баллом и низкой завершаемостью по предмету можно предложить доп. обучение (курс) по этим\n",
    "предметам (сегменты 211, 212, 213, 311, 312, 313) или персональное занятие с преподавателем (мастер-класс).  \n",
    "<br/>\n",
    "Так же студентам с большим сроком сдачи ассессментов можно предложить изменить формат обучения (групповой/индивидуальный). Для тех, кто совсем затянул обучение (сегменты 422, 423, 424 которых большинство, как показывает график) можно предложить перейти на клубную систему оплаты, чтобы они могли учиться в комфортные для себя сроки, что повысит доход компании.  \n",
    "<br/>\n",
    "Студентам сегментов 111, 112, 113 для повышения успеваемости можно предложить доп. курсы по темам, по которым у них низкий средний балл.  \n",
    "<br/>\n",
    "Успешным студентам сегментов 123, 124, 223, 224 необходимо высылать рекламу с другими курсами школы и предлагать скидки на продолжение обучения (повышение грейда)."
   ]
  }
 ],
 "metadata": {
  "kernelspec": {
   "display_name": "Python 3",
   "language": "python",
   "name": "python3"
  },
  "language_info": {
   "codemirror_mode": {
    "name": "ipython",
    "version": 3
   },
   "file_extension": ".py",
   "mimetype": "text/x-python",
   "name": "python",
   "nbconvert_exporter": "python",
   "pygments_lexer": "ipython3",
   "version": "3.8.8"
  }
 },
 "nbformat": 4,
 "nbformat_minor": 4
}
